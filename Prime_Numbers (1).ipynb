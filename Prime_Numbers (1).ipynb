{
 "cells": [
  {
   "cell_type": "markdown",
   "id": "a6d063c4-2a43-4aae-9380-c63c0c626bc7",
   "metadata": {
    "tags": []
   },
   "source": [
    "# Prime numbers from 1 - 100"
   ]
  },
  {
   "cell_type": "code",
   "execution_count": null,
   "id": "1af43098-3390-483d-b9f6-06b80b20b87a",
   "metadata": {
    "jupyter": {
     "source_hidden": true
    },
    "tags": []
   },
   "outputs": [],
   "source": [
    "primeNumbers = [2]\n",
    "#sets up a list to contain prime numbers with only one element in\n",
    "#start with only 2 in the list as it is the first prime number\n",
    "\n",
    "for i in range(2, 101):\n",
    "    #will loop from 2 to 100, starts from 2 as it is the first prime number\n",
    "\n",
    "    prime = True\n",
    "    #declare prime as True at the start of the loop\n",
    "    \n",
    "    for j in primeNumbers:\n",
    "        if (i) % j == 0:\n",
    "            #go through every prime number in the list and divide the current number by each of them\n",
    "            #if the remainder is 0 then it must be a factor and the number isn't prime\n",
    "            \n",
    "            prime = False\n",
    "            break\n",
    "            #declare prime as false and break out of the loop so\n",
    "        \n",
    "    if prime == True and prime < 10:\n",
    "        primeNumbers.append(i)\n",
    "        #if the number is prime then append it to the prime numbers list\n",
    "\n",
    "for i in primeNumbers:\n",
    "    print(i)"
   ]
  },
  {
   "cell_type": "code",
   "execution_count": null,
   "id": "b0162137-11ef-4609-92d3-2ff7c523ee01",
   "metadata": {},
   "outputs": [],
   "source": []
  }
 ],
 "metadata": {
  "kernelspec": {
   "display_name": "Python 3 (ipykernel)",
   "language": "python",
   "name": "python3"
  },
  "language_info": {
   "codemirror_mode": {
    "name": "ipython",
    "version": 3
   },
   "file_extension": ".py",
   "mimetype": "text/x-python",
   "name": "python",
   "nbconvert_exporter": "python",
   "pygments_lexer": "ipython3",
   "version": "3.10.4"
  },
  "toc-autonumbering": false,
  "toc-showmarkdowntxt": false
 },
 "nbformat": 4,
 "nbformat_minor": 5
}
