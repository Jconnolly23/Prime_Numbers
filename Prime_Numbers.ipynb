{
 "cells": [
  {
   "cell_type": "markdown",
   "id": "a6d063c4-2a43-4aae-9380-c63c0c626bc7",
   "metadata": {
    "tags": []
   },
   "source": [
    "# Prime numbers from 1 - 100"
   ]
  },
  {
   "cell_type": "code",
   "execution_count": 1,
   "id": "dcb400cb-3a1a-4813-a1f8-d1aecf601874",
   "metadata": {
    "jupyter": {
     "source_hidden": true
    },
    "scrolled": true,
    "tags": []
   },
   "outputs": [
    {
     "name": "stdout",
     "output_type": "stream",
     "text": [
      "2\n",
      "3\n",
      "5\n",
      "7\n",
      "11\n",
      "13\n",
      "17\n",
      "19\n",
      "23\n",
      "29\n",
      "31\n",
      "37\n",
      "41\n",
      "43\n",
      "47\n",
      "53\n",
      "59\n",
      "61\n",
      "67\n",
      "71\n",
      "73\n",
      "79\n",
      "83\n",
      "89\n",
      "97\n"
     ]
    }
   ],
   "source": [
    "primeNumbers = [2]\n",
    "#sets up a list to contain prime numbers with only one element in\n",
    "#start with only 2 in the list as it is the first prime number\n",
    "\n",
    "for i in range(98):\n",
    "    #as it is starting from 2 it only needs to loop 98 times to get to 100\n",
    "\n",
    "    prime = True\n",
    "    #declare prime as True at the start of the loop\n",
    "    \n",
    "    for j in primeNumbers:\n",
    "        if (i + 2) % j == 0:\n",
    "            #go through every prime number in the list and divide the current number by each of them\n",
    "            #if the remainder is 0 then it must be a factor and the number isn't prime\n",
    "            \n",
    "            prime = False\n",
    "            break\n",
    "            #declare prime as false and break out of the loop so\n",
    "        \n",
    "    if prime == True and prime < 10:\n",
    "        primeNumbers.append(i + 2)\n",
    "        #if the number is prime then append it to the prime numbers list\n",
    "\n",
    "for i in primeNumbers:\n",
    "    print(i)"
   ]
  }
 ],
 "metadata": {
  "kernelspec": {
   "display_name": "Python 3 (ipykernel)",
   "language": "python",
   "name": "python3"
  },
  "language_info": {
   "codemirror_mode": {
    "name": "ipython",
    "version": 3
   },
   "file_extension": ".py",
   "mimetype": "text/x-python",
   "name": "python",
   "nbconvert_exporter": "python",
   "pygments_lexer": "ipython3",
   "version": "3.10.4"
  },
  "toc-autonumbering": false,
  "toc-showmarkdowntxt": false
 },
 "nbformat": 4,
 "nbformat_minor": 5
}
